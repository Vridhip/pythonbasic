{
  "cells": [
    {
      "cell_type": "markdown",
      "metadata": {
        "id": "YZ6I29b1Ht16"
      },
      "source": [
        "## Question 1"
      ]
    },
    {
      "cell_type": "raw",
      "metadata": {
        "id": "r6fDAyZvHt1-"
      },
      "source": [
        "Take two integer numbers and return their product. If the product is greater than 1000, then return their sum if product is less than 1000 return product value only."
      ]
    },
    {
      "cell_type": "code",
      "source": [
        "a= 100\n",
        "b=50\n",
        "add=0\n",
        "result= a*b\n",
        "if result >1000:\n",
        "  add = a+b\n",
        "  print(add)\n",
        "else:\n",
        "  print(result)"
      ],
      "metadata": {
        "colab": {
          "base_uri": "https://localhost:8080/"
        },
        "id": "Nr7HJJ-aH4RB",
        "outputId": "0e36ccb9-c286-4933-cec8-bfd3ba4c51b7"
      },
      "execution_count": null,
      "outputs": [
        {
          "output_type": "stream",
          "name": "stdout",
          "text": [
            "150\n"
          ]
        }
      ]
    },
    {
      "cell_type": "markdown",
      "metadata": {
        "id": "Y3rxLdvZHt1_"
      },
      "source": [
        "## question 2 "
      ]
    },
    {
      "cell_type": "raw",
      "metadata": {
        "id": "RAVoSVoGHt2A"
      },
      "source": [
        "Given a range of the first 10 numbers, Iterate from the start number to the end number, and In each iteration print the sum of the current number and previous number\n",
        "\n",
        "Expected output:\n",
        "-----------------\n",
        "Printing current and previous number sum in a range(10)\n",
        "Current Number 0 Previous Number  0  Sum:  0\n",
        "Current Number 1 Previous Number  0  Sum:  1\n",
        "Current Number 2 Previous Number  1  Sum:  3\n",
        "Current Number 3 Previous Number  2  Sum:  5\n",
        "Current Number 4 Previous Number  3  Sum:  7\n",
        "Current Number 5 Previous Number  4  Sum:  9\n",
        "Current Number 6 Previous Number  5  Sum:  11\n",
        "Current Number 7 Previous Number  6  Sum:  13\n",
        "Current Number 8 Previous Number  7  Sum:  15\n",
        "Current Number 9 Previous Number  8  Sum:  17"
      ]
    },
    {
      "cell_type": "code",
      "source": [
        "add=0\n",
        "p=0\n",
        "for i in range(10):\n",
        "  add=i+p\n",
        "  print('Current Number', i,'previous_number', p,'Sum', add )\n",
        "  p=i\n",
        "  \n",
        "  \n"
      ],
      "metadata": {
        "colab": {
          "base_uri": "https://localhost:8080/"
        },
        "id": "mDQ7feIvJHUV",
        "outputId": "c80914ef-5249-4d49-f0dd-7bf2135ef930"
      },
      "execution_count": null,
      "outputs": [
        {
          "output_type": "stream",
          "name": "stdout",
          "text": [
            "Current Number 0 previous_number 0 Sum 0\n",
            "Current Number 1 previous_number 0 Sum 1\n",
            "Current Number 2 previous_number 1 Sum 3\n",
            "Current Number 3 previous_number 2 Sum 5\n",
            "Current Number 4 previous_number 3 Sum 7\n",
            "Current Number 5 previous_number 4 Sum 9\n",
            "Current Number 6 previous_number 5 Sum 11\n",
            "Current Number 7 previous_number 6 Sum 13\n",
            "Current Number 8 previous_number 7 Sum 15\n",
            "Current Number 9 previous_number 8 Sum 17\n"
          ]
        }
      ]
    },
    {
      "cell_type": "markdown",
      "metadata": {
        "id": "diRQbdceHt2B"
      },
      "source": [
        "## question 3 "
      ]
    },
    {
      "cell_type": "raw",
      "metadata": {
        "id": "AdJKDj7FHt2C"
      },
      "source": [
        "Given a string and an integer number n, remove characters from a string starting from zero up to n and return a new string\n",
        "\n",
        "Example :\n",
        "(\"pynative\", 4) so output must be tive.\n",
        "\n",
        "Note: n must be less than the length of the string."
      ]
    },
    {
      "cell_type": "code",
      "source": [
        "my_str= \"pynative\"\n",
        "n=4\n",
        "op=my_str[n:]\n",
        "print(op)"
      ],
      "metadata": {
        "id": "mQrWlDExMFty"
      },
      "execution_count": null,
      "outputs": []
    },
    {
      "cell_type": "markdown",
      "metadata": {
        "id": "0kPnxc28Ht2D"
      },
      "source": [
        "## question 4"
      ]
    },
    {
      "cell_type": "raw",
      "metadata": {
        "id": "VgE83Av9Ht2D"
      },
      "source": [
        "Given a list of numbers, return True if first and last number of a list is same\n",
        "\n",
        "Expected Output:\n",
        "-------------------------------------\n",
        "\n",
        "Given list is \n",
        "a =  [10, 20, 30, 40, 10]\n",
        "b = [10 , 20 , 30 , 40, 10 ]\n",
        "result is True\n",
        "\n",
        "Given list is  \n",
        "a = [10, 20, 30, 40, 50]\n",
        "b = [11 , 21 , 31 , 41 , 51 ] \n",
        "result is False"
      ]
    },
    {
      "cell_type": "code",
      "source": [
        "a=[10,20,30,40,50]\n",
        "b=[11,21,31,41,51]\n",
        "\n",
        "if a[0]==b[0] and a[-1]==b[-1]:\n",
        "  print('result is True')\n",
        "\n",
        "else:\n",
        "  print('result is False')  "
      ],
      "metadata": {
        "colab": {
          "base_uri": "https://localhost:8080/"
        },
        "id": "sp5W2qrXMN6k",
        "outputId": "16dafdf0-979a-42fe-a91e-631a0e23384c"
      },
      "execution_count": null,
      "outputs": [
        {
          "output_type": "stream",
          "name": "stdout",
          "text": [
            "result is False\n"
          ]
        }
      ]
    },
    {
      "cell_type": "markdown",
      "metadata": {
        "id": "xB2qIe4iHt2D"
      },
      "source": [
        "## question 5"
      ]
    },
    {
      "cell_type": "raw",
      "metadata": {
        "id": "chMhBRPaHt2E"
      },
      "source": [
        "# Given a two Python list. Iterate both lists simultaneously such that list1 should display item in original order and list2 in reverse order\n",
        "\n",
        "list1 = [10, 20, 30, 40]\n",
        "list2 = [100, 200, 300, 400]\n",
        "\n",
        "\n",
        "Expected output:\n",
        "-----------------------------\n",
        "10 400\n",
        "20 300\n",
        "30 200\n",
        "40 100"
      ]
    },
    {
      "cell_type": "code",
      "source": [
        "list1 = [10, 20, 30, 40] \n",
        "list2 = [100, 200, 300, 400]\n",
        "list2 = list2[::-1]\n",
        "final=[]\n",
        "for x,y in zip(list1,list2):\n",
        "    final.append(x)\n",
        "    final.append(y)\n",
        "    \n",
        "print(final)"
      ],
      "metadata": {
        "colab": {
          "base_uri": "https://localhost:8080/"
        },
        "id": "SV9Op8e6OZDh",
        "outputId": "9b0a2597-9e35-4702-b5b5-80cfd484a5d6"
      },
      "execution_count": null,
      "outputs": [
        {
          "output_type": "stream",
          "name": "stdout",
          "text": [
            "[10, 400, 20, 300, 30, 200, 40, 100]\n"
          ]
        }
      ]
    },
    {
      "cell_type": "markdown",
      "metadata": {
        "id": "B2eriVaSHt2F"
      },
      "source": [
        "## question 6 "
      ]
    },
    {
      "cell_type": "raw",
      "metadata": {
        "id": "44REOz4cHt2F"
      },
      "source": [
        "Remove empty strings from the list of strings\n",
        "\n",
        "\n",
        "list1 = [\"Mike\", \"\", \"Emma\", \"Kelly\", \"\", \"Brad\"]\n",
        "\n",
        "Expected output:\n",
        "----------------------\n",
        "\n",
        "[\"Mike\", \"Emma\", \"Kelly\", \"Brad\"]\n"
      ]
    },
    {
      "cell_type": "code",
      "source": [
        "list1 = [\"Mike\", \" \", \"Emma\", \"Kelly\", \" \", \"Brad\"]\n",
        "l2 = []\n",
        "for ele in list1:\n",
        "  if ele != \" \":\n",
        "    l2.append(ele)\n",
        "print(l2)"
      ],
      "metadata": {
        "colab": {
          "base_uri": "https://localhost:8080/"
        },
        "id": "QDj5EQ9jN0e8",
        "outputId": "186857cc-b968-4ef6-d561-a8885270a646"
      },
      "execution_count": null,
      "outputs": [
        {
          "output_type": "stream",
          "name": "stdout",
          "text": [
            "['Mike', 'Emma', 'Kelly', 'Brad']\n"
          ]
        }
      ]
    },
    {
      "cell_type": "markdown",
      "metadata": {
        "id": "2s0jR6ZvHt2F"
      },
      "source": [
        "### Question 7"
      ]
    },
    {
      "cell_type": "raw",
      "metadata": {
        "id": "F2N2yvwfHt2G"
      },
      "source": [
        "Find the palindrome of a number \n",
        "\n",
        "input = 121\n",
        "output = 121\n",
        "\n",
        "it is a palindrome number\n",
        "\n",
        "\n",
        "input = 123\n",
        "output = 321 \n",
        "\n",
        "it is not a palindrome number \n",
        "\n",
        "\n"
      ]
    },
    {
      "cell_type": "code",
      "execution_count": null,
      "metadata": {
        "colab": {
          "base_uri": "https://localhost:8080/"
        },
        "id": "MJ1rIc56Ht2H",
        "outputId": "c03e1a32-4260-4b8c-98ee-2f9578eeff02"
      },
      "outputs": [
        {
          "output_type": "stream",
          "name": "stdout",
          "text": [
            "not a palidrome number\n"
          ]
        }
      ],
      "source": [
        "num= 123\n",
        "temp=num\n",
        "count=0\n",
        "d=0\n",
        "while temp>0:\n",
        "  d= temp%10\n",
        "  count= (count*10) + d\n",
        "  temp=temp//10\n",
        "if count==num:\n",
        "  print(\"palindrome number\")\n",
        "else:\n",
        "  print(\"not a palidrome number\")"
      ]
    }
  ],
  "metadata": {
    "kernelspec": {
      "display_name": "Python 3 (ipykernel)",
      "language": "python",
      "name": "python3"
    },
    "language_info": {
      "codemirror_mode": {
        "name": "ipython",
        "version": 3
      },
      "file_extension": ".py",
      "mimetype": "text/x-python",
      "name": "python",
      "nbconvert_exporter": "python",
      "pygments_lexer": "ipython3",
      "version": "3.9.7"
    },
    "colab": {
      "provenance": []
    }
  },
  "nbformat": 4,
  "nbformat_minor": 0
}