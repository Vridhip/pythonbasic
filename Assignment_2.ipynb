{
 "cells": [
  {
   "cell_type": "raw",
   "id": "144f8dd9",
   "metadata": {},
   "source": [
    "1 . Print the input text without vowels \n",
    "\n",
    "input = 'hai'\n",
    "\n",
    "Expected output = h"
   ]
  },
  {
   "cell_type": "code",
   "execution_count": 3,
   "id": "5dd21691",
   "metadata": {},
   "outputs": [
    {
     "name": "stdout",
     "output_type": "stream",
     "text": [
      "vrdh"
     ]
    }
   ],
   "source": [
    "i= 'vridhi'\n",
    "for h in i:\n",
    "    if h not in 'aeiou':\n",
    "        print(h, end=\"\")"
   ]
  },
  {
   "cell_type": "raw",
   "id": "9f0cbac6",
   "metadata": {},
   "source": [
    "2 . Print only vowels from the text \n",
    "\n",
    "input = data \n",
    "\n",
    "Expected output = dt "
   ]
  },
  {
   "cell_type": "code",
   "execution_count": 4,
   "id": "544732d9",
   "metadata": {},
   "outputs": [
    {
     "name": "stdout",
     "output_type": "stream",
     "text": [
      "ii"
     ]
    }
   ],
   "source": [
    "i= 'vridhi'\n",
    "for h in i:\n",
    "    if h in 'aeiou':\n",
    "        print(h, end=\"\")"
   ]
  },
  {
   "cell_type": "raw",
   "id": "6cbfe6e1",
   "metadata": {},
   "source": [
    "3 . print each valu from the list with its index \n",
    "\n",
    "\n",
    "input = [10,11,50,34]\n",
    "\n",
    "Expected output = [100 , 111 , 502 , 343]"
   ]
  },
  {
   "cell_type": "code",
   "execution_count": 11,
   "id": "8b36c5b5",
   "metadata": {},
   "outputs": [
    {
     "name": "stdout",
     "output_type": "stream",
     "text": [
      "10 0,11 1,50 2,34 3,"
     ]
    }
   ],
   "source": [
    "ip = [10,11,50,34]\n",
    "op= []\n",
    "for index,value in enumerate(ip):\n",
    "    print(value,index,end=\",\")\n"
   ]
  },
  {
   "cell_type": "raw",
   "id": "de670ddc",
   "metadata": {},
   "source": [
    "4 . This is a Python Program to print all integers that aren’t divisible by either 2 or 3 and lies between 1 and 50."
   ]
  },
  {
   "cell_type": "code",
   "execution_count": 14,
   "id": "a9371203",
   "metadata": {},
   "outputs": [
    {
     "name": "stdout",
     "output_type": "stream",
     "text": [
      "1\n",
      "5\n",
      "7\n",
      "11\n",
      "13\n",
      "17\n",
      "19\n",
      "23\n",
      "25\n",
      "29\n",
      "31\n",
      "35\n",
      "37\n",
      "41\n",
      "43\n",
      "47\n",
      "49\n"
     ]
    }
   ],
   "source": [
    "for i in range(1,50):\n",
    "    if i%2!=0 and i%3!=0:\n",
    "        print(i)"
   ]
  },
  {
   "cell_type": "raw",
   "id": "9f9b54af",
   "metadata": {},
   "source": [
    "5 . The program takes in an integer and prints the smallest divisor of the integer."
   ]
  },
  {
   "cell_type": "code",
   "execution_count": 20,
   "id": "35602668",
   "metadata": {},
   "outputs": [
    {
     "name": "stdout",
     "output_type": "stream",
     "text": [
      "enter the number to find the smallest divisor15\n",
      "the smallest divisor is 3\n"
     ]
    }
   ],
   "source": [
    "num = int(input(\"enter the number to find the smallest divisor\"))\n",
    "l = []\n",
    "for i in range(2,num+1):\n",
    "    if num%i==0:\n",
    "        l.append(i)\n",
    "        \n",
    "print(\"the smallest divisor is\", l[0]) \n",
    "        "
   ]
  },
  {
   "cell_type": "raw",
   "id": "fe7c7e96",
   "metadata": {},
   "source": [
    "6 . Write a Python program to check if it is a strong number or not ."
   ]
  },
  {
   "cell_type": "code",
   "execution_count": 21,
   "id": "a9579b06",
   "metadata": {},
   "outputs": [],
   "source": [
    "import math"
   ]
  },
  {
   "cell_type": "code",
   "execution_count": 29,
   "id": "6c68ef6b",
   "metadata": {},
   "outputs": [
    {
     "name": "stdout",
     "output_type": "stream",
     "text": [
      "enter a number125\n",
      "the given number is not a strong number\n"
     ]
    }
   ],
   "source": [
    "num = int(input(\"enter a number\"))\n",
    "temp = num\n",
    "add= 0 \n",
    "j = 0\n",
    "for i in range(0,3):\n",
    "    j = temp%10\n",
    "    add = math.factorial(j) + add\n",
    "    temp = temp//10\n",
    "if add == num:\n",
    "    print(\"the given number is strong number\")\n",
    "else:\n",
    "    print(\"the given number is not a strong number\")"
   ]
  },
  {
   "cell_type": "raw",
   "id": "6fccfd65",
   "metadata": {},
   "source": [
    "7 . Write a Python program that takes input from the user and displays that input back in upper and lower cases."
   ]
  },
  {
   "cell_type": "code",
   "execution_count": 31,
   "id": "769ecf4d",
   "metadata": {},
   "outputs": [],
   "source": [
    "def uc(a):\n",
    "    u=a.upper()\n",
    "    return u\n",
    "\n",
    "def lc(a):\n",
    "    l=a.lower()\n",
    "    return l"
   ]
  },
  {
   "cell_type": "code",
   "execution_count": 33,
   "id": "4e35870e",
   "metadata": {},
   "outputs": [
    {
     "name": "stdout",
     "output_type": "stream",
     "text": [
      "VRIDHI\n",
      "hrithik\n"
     ]
    }
   ],
   "source": [
    "v= uc('vridhi')\n",
    "p= lc('HRITHIK')\n",
    "print(v)\n",
    "print(p)"
   ]
  },
  {
   "cell_type": "raw",
   "id": "8e92ebb5",
   "metadata": {},
   "source": [
    "8 . Write a Python program to remove spaces from a given string"
   ]
  },
  {
   "cell_type": "code",
   "execution_count": 35,
   "id": "a92dec15",
   "metadata": {},
   "outputs": [
    {
     "data": {
      "text/plain": [
       "'Hiwearelearningpythonbasicshere'"
      ]
     },
     "execution_count": 35,
     "metadata": {},
     "output_type": "execute_result"
    }
   ],
   "source": [
    "stri = \"Hi we are learning python basics here\"\n",
    "l1 = stri.split(\" \")\n",
    "l1 = ''.join(l1)\n",
    "l1"
   ]
  },
  {
   "cell_type": "raw",
   "id": "0b1bc8da",
   "metadata": {},
   "source": [
    "9 . Write a Python program to capitalize first and last letters of each word of a given string."
   ]
  },
  {
   "cell_type": "code",
   "execution_count": 41,
   "id": "e12bb2ea",
   "metadata": {},
   "outputs": [
    {
     "data": {
      "text/plain": [
       "'HellO'"
      ]
     },
     "execution_count": 41,
     "metadata": {},
     "output_type": "execute_result"
    }
   ],
   "source": [
    "ip = \"hello\"\n",
    "i = ip[0]\n",
    "l= ip[-1]\n",
    "i=i.upper()\n",
    "l=l.upper()\n",
    "ip=ip.replace(ip[0],i)\n",
    "ip=ip.replace(ip[-1],l)\n",
    "ip"
   ]
  },
  {
   "cell_type": "raw",
   "id": "77b5cd36",
   "metadata": {},
   "source": [
    "10 . write a python program to find length of a string but should not use len keyword "
   ]
  },
  {
   "cell_type": "code",
   "execution_count": 43,
   "id": "93fdfb74",
   "metadata": {},
   "outputs": [
    {
     "name": "stdout",
     "output_type": "stream",
     "text": [
      "28\n",
      "28\n"
     ]
    }
   ],
   "source": [
    "ip = \"abherbhderfeokfmrirfimefhuer\"\n",
    "l = 0\n",
    "for i in ip:\n",
    "    l +=1\n",
    "print(l)"
   ]
  },
  {
   "cell_type": "code",
   "execution_count": null,
   "id": "c74d107c",
   "metadata": {},
   "outputs": [],
   "source": []
  }
 ],
 "metadata": {
  "kernelspec": {
   "display_name": "Python 3 (ipykernel)",
   "language": "python",
   "name": "python3"
  },
  "language_info": {
   "codemirror_mode": {
    "name": "ipython",
    "version": 3
   },
   "file_extension": ".py",
   "mimetype": "text/x-python",
   "name": "python",
   "nbconvert_exporter": "python",
   "pygments_lexer": "ipython3",
   "version": "3.10.9"
  }
 },
 "nbformat": 4,
 "nbformat_minor": 5
}
