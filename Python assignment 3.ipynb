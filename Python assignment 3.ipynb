{
 "cells": [
  {
   "cell_type": "raw",
   "id": "e5421237",
   "metadata": {},
   "source": [
    "1 . print the count of each character in your name in an dictionary format \n",
    "\n",
    "ex :\n",
    "input = sai kamal \n",
    "output = {s=1 , a = 3 , i = 1 , ' ' = 1 , k = 1 , m = 1 , l = 1}"
   ]
  },
  {
   "cell_type": "code",
   "execution_count": 1,
   "id": "0128b4ef",
   "metadata": {},
   "outputs": [
    {
     "name": "stdout",
     "output_type": "stream",
     "text": [
      "{'s': 1, 'a': 3, 'i': 1, ' ': 1, 'k': 1, 'm': 1, 'l': 1}\n"
     ]
    }
   ],
   "source": [
    "inp = 'sai kamal' \n",
    "l = {}\n",
    "for i in inp:\n",
    "    if i in l:\n",
    "        l[i] = l[i]+1\n",
    "    else:\n",
    "        l[i] = 1\n",
    "print(l)\n",
    "    "
   ]
  },
  {
   "cell_type": "raw",
   "id": "71d35bd0",
   "metadata": {},
   "source": [
    "2 . Python program to find the area of a triangle whose sides are given"
   ]
  },
  {
   "cell_type": "code",
   "execution_count": 3,
   "id": "211be7bd",
   "metadata": {},
   "outputs": [],
   "source": [
    "# s=(a+b+c)/2\n",
    "# area of triangle with 3 side = under root (s)(s-a)(s-b)(s-c)\n",
    "#where a,b,c are the side of triangle"
   ]
  },
  {
   "cell_type": "code",
   "execution_count": 5,
   "id": "ff047e71",
   "metadata": {},
   "outputs": [
    {
     "data": {
      "text/plain": [
       "6.0"
      ]
     },
     "execution_count": 5,
     "metadata": {},
     "output_type": "execute_result"
    }
   ],
   "source": [
    "import math\n",
    "a = 4\n",
    "b=5\n",
    "c=3\n",
    "s = (a+b+c)/2\n",
    "area= math.sqrt((s)*(s-a)*(s-b)*(s-c))\n",
    "area"
   ]
  },
  {
   "cell_type": "raw",
   "id": "0c1eff09",
   "metadata": {},
   "source": [
    "3 . Python program to find out the average of a set of integers"
   ]
  },
  {
   "cell_type": "code",
   "execution_count": 6,
   "id": "3bd44212",
   "metadata": {},
   "outputs": [
    {
     "data": {
      "text/plain": [
       "19.0"
      ]
     },
     "execution_count": 6,
     "metadata": {},
     "output_type": "execute_result"
    }
   ],
   "source": [
    "inp= [10,14,18,22,34,16]\n",
    "tot = sum(inp)\n",
    "average = tot/len(inp)\n",
    "average"
   ]
  },
  {
   "cell_type": "raw",
   "id": "29df69bc",
   "metadata": {},
   "source": [
    "4 . Python program to display the given integer in reverse manner"
   ]
  },
  {
   "cell_type": "code",
   "execution_count": 12,
   "id": "7e9fd5cf",
   "metadata": {},
   "outputs": [
    {
     "data": {
      "text/plain": [
       "451"
      ]
     },
     "execution_count": 12,
     "metadata": {},
     "output_type": "execute_result"
    }
   ],
   "source": [
    "n = 154\n",
    "temp = n\n",
    "rev = 0\n",
    "j=0\n",
    "for i in range (3):\n",
    "    j = temp%10\n",
    "    rev = rev*10+j\n",
    "    temp = temp//10\n",
    "rev"
   ]
  },
  {
   "cell_type": "raw",
   "id": "957fffc8",
   "metadata": {},
   "source": [
    "5 . Python program to find the sum of the digits of an integer using while loop"
   ]
  },
  {
   "cell_type": "code",
   "execution_count": 22,
   "id": "7a1c5e86",
   "metadata": {},
   "outputs": [
    {
     "data": {
      "text/plain": [
       "15"
      ]
     },
     "execution_count": 22,
     "metadata": {},
     "output_type": "execute_result"
    }
   ],
   "source": [
    "dig =12345\n",
    "add = 0\n",
    "temp =dig\n",
    "j=0\n",
    "while temp>0:\n",
    "    j = temp%10\n",
    "    add = add +j\n",
    "    temp = temp//10\n",
    "add\n",
    "         "
   ]
  },
  {
   "cell_type": "raw",
   "id": "18d62095",
   "metadata": {},
   "source": [
    "6 . Python program to generate the prime numbers from 1 to 100"
   ]
  },
  {
   "cell_type": "code",
   "execution_count": 8,
   "id": "60c6656c",
   "metadata": {},
   "outputs": [
    {
     "name": "stdout",
     "output_type": "stream",
     "text": [
      "2 3 5 7 11 13 17 19 23 29 31 37 41 43 47 53 59 61 67 71 73 79 83 89 97 "
     ]
    }
   ],
   "source": [
    "def isPrime(n):\n",
    "    if (n==0 or n==1):\n",
    "        return False\n",
    "    for i in range(2,n):\n",
    "        if (n%i==0):\n",
    "            return False\n",
    "    return True\n",
    "\n",
    "N = 100\n",
    "for i in range(1,N+1):\n",
    "    if (isPrime(i)):\n",
    "        print(i, end=\" \")    "
   ]
  },
  {
   "cell_type": "raw",
   "id": "53ede651",
   "metadata": {},
   "source": [
    "7 . Python program to find the factorial of a number "
   ]
  },
  {
   "cell_type": "code",
   "execution_count": 20,
   "id": "891ae4c5",
   "metadata": {},
   "outputs": [],
   "source": [
    "\n",
    "def fact(a):\n",
    "    final = 1\n",
    "    while a>0:\n",
    "        \n",
    "        final = final*a\n",
    "        a -=1\n",
    "    return final"
   ]
  },
  {
   "cell_type": "code",
   "execution_count": 21,
   "id": "d1d1b428",
   "metadata": {},
   "outputs": [
    {
     "data": {
      "text/plain": [
       "120"
      ]
     },
     "execution_count": 21,
     "metadata": {},
     "output_type": "execute_result"
    }
   ],
   "source": [
    "fact(5)"
   ]
  },
  {
   "cell_type": "raw",
   "id": "8794b6ed",
   "metadata": {},
   "source": [
    "8 . Python program to check whether a string is palindrome or not"
   ]
  },
  {
   "cell_type": "code",
   "execution_count": 9,
   "id": "60f5104e",
   "metadata": {},
   "outputs": [],
   "source": [
    "def pal(s1):\n",
    "    if s1==s1[::-1]:\n",
    "        print(\"palidrome\")\n",
    "    else:\n",
    "        print(\"non-palindrome\")"
   ]
  },
  {
   "cell_type": "code",
   "execution_count": 12,
   "id": "579b7265",
   "metadata": {},
   "outputs": [
    {
     "name": "stdout",
     "output_type": "stream",
     "text": [
      "non-palindrome\n"
     ]
    }
   ],
   "source": [
    "pal(\"dee\")"
   ]
  },
  {
   "cell_type": "raw",
   "id": "8ad9741f",
   "metadata": {},
   "source": [
    "9 . Write a Python function to convert a given string to all uppercase if it contains at least 2 uppercase characters in the first 4 characters"
   ]
  },
  {
   "cell_type": "code",
   "execution_count": 37,
   "id": "e9137117",
   "metadata": {},
   "outputs": [],
   "source": [
    "def up(ip):\n",
    "    j = 0\n",
    "    for i in ip[:4]:\n",
    "        if i.upper() == i:\n",
    "            j+=1\n",
    "    if j >=2:\n",
    "        return ip.upper()\n",
    "    return ip        "
   ]
  },
  {
   "cell_type": "code",
   "execution_count": 38,
   "id": "432534cd",
   "metadata": {},
   "outputs": [
    {
     "name": "stdout",
     "output_type": "stream",
     "text": [
      "ABCDEFGH\n",
      "vridhi\n"
     ]
    }
   ],
   "source": [
    "print(up(\"AbcDefgh\"))\n",
    "print(up(\"vridhi\"))"
   ]
  },
  {
   "cell_type": "raw",
   "id": "f667276e",
   "metadata": {},
   "source": [
    "10 . Write a Python program to move spaces to the front of a given string\n",
    "ex:\n",
    "input = sai kamal\n",
    "output = ' saikamal'"
   ]
  },
  {
   "cell_type": "code",
   "execution_count": 48,
   "id": "eef1c6c9",
   "metadata": {},
   "outputs": [
    {
     "data": {
      "text/plain": [
       "' saikamal'"
      ]
     },
     "execution_count": 48,
     "metadata": {},
     "output_type": "execute_result"
    }
   ],
   "source": [
    "inp = \"sai kamal\"\n",
    "n_space = [i for i in inp if i!=' ']\n",
    "leng = len(inp) - len(n_space)\n",
    "result = ' '*leng\n",
    "final = \"\"+result+\"\".join(n_space)+\"\"\n",
    "final\n"
   ]
  },
  {
   "cell_type": "code",
   "execution_count": 49,
   "id": "8154d3cd",
   "metadata": {},
   "outputs": [
    {
     "data": {
      "text/plain": [
       "'  VridhiRajeshParmar'"
      ]
     },
     "execution_count": 49,
     "metadata": {},
     "output_type": "execute_result"
    }
   ],
   "source": [
    "inp = \"Vridhi Rajesh Parmar\"\n",
    "space = inp.count(\" \")\n",
    "alp = inp.replace(' ','')\n",
    "r1= ' '*space\n",
    "result = r1+alp\n",
    "result"
   ]
  },
  {
   "cell_type": "raw",
   "id": "bf02aa26",
   "metadata": {},
   "source": [
    "11 .  Write a Python program to count Uppercase, Lowercase, special character and numeric values in a given string."
   ]
  },
  {
   "cell_type": "code",
   "execution_count": 65,
   "id": "eee575ae",
   "metadata": {},
   "outputs": [],
   "source": [
    "def case(str1):\n",
    "    upp=0\n",
    "    low=0\n",
    "    spc=0\n",
    "    num=0\n",
    " \n",
    "    for i in range (len(str1)):\n",
    "        if str1[i]>='A'and str1[i]<='Z':\n",
    "            upp +=1\n",
    "        elif str1[i]>='a'and str1[i]<='z':\n",
    "            low += 1\n",
    "        elif str1[i]>='0' and str1[i]<='9':\n",
    "            num+=1\n",
    "        else:\n",
    "            spc+=1\n",
    "    print(\"upper\" , upp,\"lower\", low,\"special\", spc,\"numer\", num)\n",
    "            "
   ]
  },
  {
   "cell_type": "code",
   "execution_count": 66,
   "id": "c89bc658",
   "metadata": {},
   "outputs": [
    {
     "name": "stdout",
     "output_type": "stream",
     "text": [
      "upper 1 lower 13 special 2 numer 2\n"
     ]
    }
   ],
   "source": [
    "case('Vridhi27@gmail.com')"
   ]
  }
 ],
 "metadata": {
  "kernelspec": {
   "display_name": "Python 3 (ipykernel)",
   "language": "python",
   "name": "python3"
  },
  "language_info": {
   "codemirror_mode": {
    "name": "ipython",
    "version": 3
   },
   "file_extension": ".py",
   "mimetype": "text/x-python",
   "name": "python",
   "nbconvert_exporter": "python",
   "pygments_lexer": "ipython3",
   "version": "3.10.9"
  }
 },
 "nbformat": 4,
 "nbformat_minor": 5
}
